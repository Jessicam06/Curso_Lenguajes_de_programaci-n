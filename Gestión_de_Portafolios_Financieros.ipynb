{
  "nbformat": 4,
  "nbformat_minor": 0,
  "metadata": {
    "colab": {
      "provenance": [],
      "authorship_tag": "ABX9TyNnMAvyvQ6OQMmempfW5KvZ",
      "include_colab_link": true
    },
    "kernelspec": {
      "name": "python3",
      "display_name": "Python 3"
    },
    "language_info": {
      "name": "python"
    }
  },
  "cells": [
    {
      "cell_type": "markdown",
      "metadata": {
        "id": "view-in-github",
        "colab_type": "text"
      },
      "source": [
        "<a href=\"https://colab.research.google.com/github/Jessicam06/Curso_Lenguajes_de_programaci-n/blob/main/Gesti%C3%B3n_de_Portafolios_Financieros.ipynb\" target=\"_parent\"><img src=\"https://colab.research.google.com/assets/colab-badge.svg\" alt=\"Open In Colab\"/></a>"
      ]
    },
    {
      "cell_type": "markdown",
      "source": [
        "# Gestión de Portafolios Financieros\n",
        "\n",
        "Eres parte del equipo de análisis financiero de una empresa que gestiona portafolios de inversión para varios clientes. Debes desarrollar un script en Python para ayudar a la empresa a gestionar información sobre las inversiones de los clientes y generar informes sobre el rendimiento de sus portafolios.\n",
        "\n"
      ],
      "metadata": {
        "id": "qGvyMHRc-CiQ"
      }
    },
    {
      "cell_type": "code",
      "source": [
        "# Declaracion de listas\n",
        "\n",
        "clientes = [\"Juan Perez\", \"Maria Rodriguez\", \"Carlos Lopez\", \"Ana Gomez\"]\n",
        "montos_invertidos = [10000, 15000, 20000, 18000]\n",
        "rendimientos = [5.5, 6.0, 4.0, 7.5]\n"
      ],
      "metadata": {
        "id": "yJXxfjoa_va9"
      },
      "execution_count": 77,
      "outputs": []
    },
    {
      "cell_type": "code",
      "source": [
        "# Crear tuplas\n",
        "\n",
        "cliente_1 = (\"Juan Perez\", 10000, 5.5)\n",
        "cliente_2 = (\"Maria Rodriguez\", 15000, 6.0)\n",
        "cliente_3 = (\"Carlos Lopez\", 20000, 4.0)\n",
        "cliente_4 = (\"Ana Gomez\", 18000, 7.5)\n",
        "\n",
        "print(cliente_1)\n",
        "print(cliente_2)\n",
        "print(cliente_3)\n",
        "print(cliente_4)"
      ],
      "metadata": {
        "colab": {
          "base_uri": "https://localhost:8080/"
        },
        "id": "brMn7XL8BXss",
        "outputId": "7080e037-56be-4e5a-da94-b8d3e59b3662"
      },
      "execution_count": 78,
      "outputs": [
        {
          "output_type": "stream",
          "name": "stdout",
          "text": [
            "('Juan Perez', 10000, 5.5)\n",
            "('Maria Rodriguez', 15000, 6.0)\n",
            "('Carlos Lopez', 20000, 4.0)\n",
            "('Ana Gomez', 18000, 7.5)\n"
          ]
        }
      ]
    },
    {
      "cell_type": "code",
      "source": [
        "# Declarar diccionario\n",
        "\n",
        "portafolio = {\n",
        "\"Juan Perez\": {\"monto_invertido\": 10000, \"rendimiento\": 5.5},\n",
        "\"Maria Rodriguez\": {\"monto_invertido\": 15000, \"rendimiento\": 6.0},\n",
        "\"Carlos Lopez\": {\"monto_invertido\": 20000, \"rendimiento\": 4.0},\n",
        "\"Ana Gomez\": {\"monto_invertido\": 18000, \"rendimiento\": 7.5}\n",
        "}\n",
        "\n",
        "print(portafolio)"
      ],
      "metadata": {
        "colab": {
          "base_uri": "https://localhost:8080/"
        },
        "id": "1N-kPKJ-CUt5",
        "outputId": "a5e16efb-c413-4123-9c32-4d4f0c304daf"
      },
      "execution_count": 79,
      "outputs": [
        {
          "output_type": "stream",
          "name": "stdout",
          "text": [
            "{'Juan Perez': {'monto_invertido': 10000, 'rendimiento': 5.5}, 'Maria Rodriguez': {'monto_invertido': 15000, 'rendimiento': 6.0}, 'Carlos Lopez': {'monto_invertido': 20000, 'rendimiento': 4.0}, 'Ana Gomez': {'monto_invertido': 18000, 'rendimiento': 7.5}}\n"
          ]
        }
      ]
    },
    {
      "cell_type": "code",
      "source": [
        "# Evaluación del Rendimiento de los Clientes\n",
        "\n",
        "print(\"Clientes con rendimiento superior a 5%\")\n",
        "print(\"\\n\")\n",
        "for cliente, datos in portafolio.items():\n",
        "    if datos[\"rendimiento\"] > 5:\n",
        "        print(f\"{cliente} tiene un rendimiento de {datos['rendimiento']}%\")"
      ],
      "metadata": {
        "colab": {
          "base_uri": "https://localhost:8080/"
        },
        "id": "-fZm9g29D7hK",
        "outputId": "6bcb74ba-8451-4ab0-ec5f-8bf45946e375"
      },
      "execution_count": 80,
      "outputs": [
        {
          "output_type": "stream",
          "name": "stdout",
          "text": [
            "Clientes con rendimiento superior a 5%\n",
            "\n",
            "\n",
            "Juan Perez tiene un rendimiento de 5.5%\n",
            "Maria Rodriguez tiene un rendimiento de 6.0%\n",
            "Ana Gomez tiene un rendimiento de 7.5%\n"
          ]
        }
      ]
    },
    {
      "cell_type": "code",
      "source": [
        "# Calculos con ciclos\n",
        "\n",
        "print(\"Rendimiento total del portafolio\")\n",
        "print(\"\\n\")\n",
        "\n",
        "rendimiento_total = 0\n",
        "\n",
        "for cliente, datos in portafolio.items():\n",
        "    rendimiento_cliente = (datos[\"monto_invertido\"] * datos[\"rendimiento\"]) / 100\n",
        "    rendimiento_total += rendimiento_cliente\n",
        "\n",
        "print(f\"El rendimiento total del portafolio es: ${rendimiento_total:.2f}\")"
      ],
      "metadata": {
        "colab": {
          "base_uri": "https://localhost:8080/"
        },
        "id": "TmWIc_dqLwSU",
        "outputId": "e54e8507-ea52-4e60-be5b-a78036ab4546"
      },
      "execution_count": 81,
      "outputs": [
        {
          "output_type": "stream",
          "name": "stdout",
          "text": [
            "Rendimiento total del portafolio\n",
            "\n",
            "\n",
            "El rendimiento total del portafolio es: $3600.00\n"
          ]
        }
      ]
    },
    {
      "cell_type": "code",
      "source": [
        "# Cliente con mayor rendimiento\n",
        "\n",
        "mayor_rendimiento = 0\n",
        "\n",
        "for cliente, datos in portafolio.items():\n",
        "    rendimiento_cliente = (datos[\"monto_invertido\"] * datos[\"rendimiento\"]) / 100\n",
        "    if rendimiento_cliente > mayor_rendimiento:\n",
        "        mayor_rendimiento = rendimiento_cliente\n",
        "        cliente_mayor_rendimiento = cliente\n",
        "\n",
        "print(f\"El cliente con mayor rendimiento es {cliente_mayor_rendimiento} con un rendimiento de ${mayor_rendimiento:.2f}\")"
      ],
      "metadata": {
        "colab": {
          "base_uri": "https://localhost:8080/"
        },
        "id": "D5KfI2rwQEls",
        "outputId": "f005a5f8-2a53-487a-ac06-abefcef55b43"
      },
      "execution_count": 82,
      "outputs": [
        {
          "output_type": "stream",
          "name": "stdout",
          "text": [
            "El cliente con mayor rendimiento es Ana Gomez con un rendimiento de $1350.00\n"
          ]
        }
      ]
    },
    {
      "cell_type": "code",
      "source": [
        "# Modificaciones del portafolio\n",
        "\n",
        "# Convertimos el diccionario en una lista para agregar el nuevo cliente\n",
        "\n",
        "portafolio_lista = [[cliente, datos[\"monto_invertido\"], datos[\"rendimiento\"]] for cliente, datos in portafolio.items()]\n",
        "print(portafolio_lista)"
      ],
      "metadata": {
        "colab": {
          "base_uri": "https://localhost:8080/"
        },
        "id": "8Zpg7aTnlcx0",
        "outputId": "1329257c-4287-4a44-838f-7d557a82151e"
      },
      "execution_count": 83,
      "outputs": [
        {
          "output_type": "stream",
          "name": "stdout",
          "text": [
            "[['Juan Perez', 10000, 5.5], ['Maria Rodriguez', 15000, 6.0], ['Carlos Lopez', 20000, 4.0], ['Ana Gomez', 18000, 7.5]]\n"
          ]
        }
      ]
    },
    {
      "cell_type": "code",
      "source": [
        "# Actualizamos el monto invertido de Carlos Lopez\n",
        "\n",
        "for cliente in portafolio_lista:\n",
        "    if cliente[0] == \"Carlos Lopez\":\n",
        "        cliente[1] = 25000\n",
        "\n",
        "print(\"Se ha actualizado el monto invertido de Carlos Lopez a 25000\")\n",
        "print(\"\\n\")\n",
        "print(portafolio_lista)"
      ],
      "metadata": {
        "colab": {
          "base_uri": "https://localhost:8080/"
        },
        "id": "LsFAoynveLTk",
        "outputId": "da22c06e-4922-46ea-db76-a730050b4b91"
      },
      "execution_count": 84,
      "outputs": [
        {
          "output_type": "stream",
          "name": "stdout",
          "text": [
            "Se ha actualizado el monto invertido de Carlos Lopez a 25000\n",
            "\n",
            "\n",
            "[['Juan Perez', 10000, 5.5], ['Maria Rodriguez', 15000, 6.0], ['Carlos Lopez', 25000, 4.0], ['Ana Gomez', 18000, 7.5]]\n"
          ]
        }
      ]
    },
    {
      "cell_type": "code",
      "source": [
        "# Añadir un Nuevo Cliente al Portafolio\n",
        "\n",
        "portafolio_lista.append([\"Laura Fernandez\", 22000, 6.8])\n",
        "print(\"Se ha añadido a Laura Fernandez al portafolio\")\n",
        "print(\"\\n\")\n",
        "print(portafolio_lista)"
      ],
      "metadata": {
        "colab": {
          "base_uri": "https://localhost:8080/"
        },
        "id": "yQXNxbnemZ9Z",
        "outputId": "26f20f3a-b85e-4776-90bd-d48e8feb6861"
      },
      "execution_count": 85,
      "outputs": [
        {
          "output_type": "stream",
          "name": "stdout",
          "text": [
            "Se ha añadido a Laura Fernandez al portafolio\n",
            "\n",
            "\n",
            "[['Juan Perez', 10000, 5.5], ['Maria Rodriguez', 15000, 6.0], ['Carlos Lopez', 25000, 4.0], ['Ana Gomez', 18000, 7.5], ['Laura Fernandez', 22000, 6.8]]\n"
          ]
        }
      ]
    },
    {
      "cell_type": "code",
      "source": [
        "# Convertir nuevamente la lista en diccionario\n",
        "\n",
        "portafolio_actualizado = {cliente_data[0]: {\"monto_invertido\": cliente_data[1], \"rendimiento\": cliente_data[2]}\n",
        "                          for cliente_data in portafolio_lista}\n",
        "\n",
        "print(portafolio_actualizado)"
      ],
      "metadata": {
        "colab": {
          "base_uri": "https://localhost:8080/"
        },
        "id": "Q52MqJMxnCM8",
        "outputId": "9f9d8c72-d4b4-479e-97fd-2d566fa3ca34"
      },
      "execution_count": 86,
      "outputs": [
        {
          "output_type": "stream",
          "name": "stdout",
          "text": [
            "{'Juan Perez': {'monto_invertido': 10000, 'rendimiento': 5.5}, 'Maria Rodriguez': {'monto_invertido': 15000, 'rendimiento': 6.0}, 'Carlos Lopez': {'monto_invertido': 25000, 'rendimiento': 4.0}, 'Ana Gomez': {'monto_invertido': 18000, 'rendimiento': 7.5}, 'Laura Fernandez': {'monto_invertido': 22000, 'rendimiento': 6.8}}\n"
          ]
        }
      ]
    },
    {
      "cell_type": "code",
      "source": [
        "# Remover a un Cliente del Portafolio\n",
        "\n",
        "if \"Ana Gomez\" in portafolio:\n",
        "    del portafolio_actualizado[\"Ana Gomez\"]\n",
        "\n",
        "    print(\"Se ha eliminado a Ana Gomez del portafolio.\")\n",
        "    print(\"\\n\")\n",
        "    print(portafolio_actualizado)"
      ],
      "metadata": {
        "colab": {
          "base_uri": "https://localhost:8080/"
        },
        "id": "4RPbUS9RqWuN",
        "outputId": "834e7532-31b6-4b4c-8345-2e898f1e78ea"
      },
      "execution_count": 87,
      "outputs": [
        {
          "output_type": "stream",
          "name": "stdout",
          "text": [
            "Se ha eliminado a Ana Gomez del portafolio.\n",
            "\n",
            "\n",
            "{'Juan Perez': {'monto_invertido': 10000, 'rendimiento': 5.5}, 'Maria Rodriguez': {'monto_invertido': 15000, 'rendimiento': 6.0}, 'Carlos Lopez': {'monto_invertido': 25000, 'rendimiento': 4.0}, 'Laura Fernandez': {'monto_invertido': 22000, 'rendimiento': 6.8}}\n"
          ]
        }
      ]
    }
  ]
}