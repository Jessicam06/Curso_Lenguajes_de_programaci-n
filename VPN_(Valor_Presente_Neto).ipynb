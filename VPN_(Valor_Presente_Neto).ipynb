{
  "nbformat": 4,
  "nbformat_minor": 0,
  "metadata": {
    "colab": {
      "provenance": []
    },
    "kernelspec": {
      "name": "python3",
      "display_name": "Python 3"
    },
    "language_info": {
      "name": "python"
    }
  },
  "cells": [
    {
      "cell_type": "markdown",
      "source": [
        "# VPN (Valor Presente Neto)\n",
        "\n",
        "El VPN es una medida financiera que te permite evaluar la viabilidad de un proyecto, calculando la diferencia entre el valor presente de los flujos de caja futuros y la inversión inicial.\n",
        "\n",
        "### **Donde:**\n",
        "$$ Ft = \\text{Flujo de caja en el periodo t} $$   \n",
        "$$ rr = \\text{Tasa de descuento} $$   \n",
        "$$ C0 = \\text{Inversión inicial} $$\n",
        "\n",
        "\n",
        "$$\n",
        "VPN = \\sum_{t=0}^{n} \\frac{C_t}{(1+r)^t} - C_0\n",
        "$$\n",
        "\n",
        "\n",
        "## **Interpretación:**  \n",
        "Si el VPN es positivo, el proyecto es rentable; si es negativo, no lo es.  \n",
        "\n",
        "\n",
        "## **2. Descripción del Proyecto:**\n",
        "Supongamos que la empresa está considerando un proyecto con una inversión inicial de $10,000 y espera recibir flujos de caja de $3,000 en cada uno de los próximos tres años. La tasa de descuento es del 5%.\n"
      ],
      "metadata": {
        "id": "yLI_DqX407Jt"
      }
    },
    {
      "cell_type": "code",
      "source": [
        "inversion_inicial = 10000\n",
        "flujo_ano_1 = 3000\n",
        "fluji_ano_2 = 3000\n",
        "flujo_ano_3 = 3000\n",
        "tasa_descuento = 0.05\n",
        "\n",
        "vpn = (flujo_ano_1 / (1 + tasa_descuento) ** 1) + \\\n",
        "      (fluji_ano_2 / (1 + tasa_descuento) ** 2) + \\\n",
        "      (flujo_ano_3 / (1 + tasa_descuento) ** 3) - inversion_inicial\n",
        "\n",
        "print(\"El Valor Presente Neto (VPN) es:\", vpn)\n",
        "\n",
        "\n",
        "\n"
      ],
      "metadata": {
        "colab": {
          "base_uri": "https://localhost:8080/"
        },
        "id": "FUVRJq8BlSwG",
        "outputId": "b7268e05-e0e4-46bb-f2ff-59f5605e1be3"
      },
      "execution_count": 2,
      "outputs": [
        {
          "output_type": "stream",
          "name": "stdout",
          "text": [
            "El Valor Presente Neto (VPN) es: -1830.2559118885656\n"
          ]
        }
      ]
    },
    {
      "cell_type": "code",
      "source": [
        "if vpn > 0:\n",
        "    print(\"El proyecto es rentable, ya que el VPN es positivo\")\n",
        "else:\n",
        "    print(\"El proyecto no es rentable, ya que el VPN es negativo\")"
      ],
      "metadata": {
        "colab": {
          "base_uri": "https://localhost:8080/"
        },
        "id": "BSgrz6U7FP3x",
        "outputId": "0977ab2d-fdb9-4e5b-9fcd-07abd9cb5381"
      },
      "execution_count": 4,
      "outputs": [
        {
          "output_type": "stream",
          "name": "stdout",
          "text": [
            "El proyecto no es rentable, ya que el VPN es negativo\n"
          ]
        }
      ]
    }
  ]
}